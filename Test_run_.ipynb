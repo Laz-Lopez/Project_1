{
 "cells": [
  {
   "cell_type": "code",
   "execution_count": 1,
   "metadata": {},
   "outputs": [],
   "source": [
    "import warnings\n",
    "warnings.filterwarnings(\"ignore\")\n",
    "\n",
    "import numpy as np\n",
    "import pandas as pd\n",
    "import matplotlib.pyplot as plt\n",
    "import seaborn as sns\n",
    "import acquire\n",
    "import prepare\n",
    "import explore\n",
    "import math\n",
    "import scipy.stats as stats\n",
    "from sklearn.model_selection import train_test_split\n",
    "from sklearn.tree import DecisionTreeClassifier, plot_tree\n",
    "from sklearn.metrics import classification_report\n",
    "from sklearn.metrics import ConfusionMatrixDisplay\n",
    "from sklearn.metrics import confusion_matrix\n",
    "from sklearn.model_selection import train_test_split\n",
    "from sklearn.impute import SimpleImputer\n",
    "from sklearn.ensemble import RandomForestClassifier\n",
    "from sklearn.neighbors import KNeighborsClassifier\n",
    "from sklearn.linear_model import LogisticRegression\n",
    "import sklearn.metrics as met\n"
   ]
  },
  {
   "cell_type": "markdown",
   "metadata": {},
   "source": [
    "# Acquire Data from SQL "
   ]
  },
  {
   "cell_type": "code",
   "execution_count": 2,
   "metadata": {},
   "outputs": [],
   "source": [
    "test_1= acquire.get_telco_data()\n"
   ]
  },
  {
   "cell_type": "markdown",
   "metadata": {},
   "source": [
    "# Began Preperation of data"
   ]
  },
  {
   "cell_type": "code",
   "execution_count": 3,
   "metadata": {},
   "outputs": [
    {
     "data": {
      "text/html": [
       "<div>\n",
       "<style scoped>\n",
       "    .dataframe tbody tr th:only-of-type {\n",
       "        vertical-align: middle;\n",
       "    }\n",
       "\n",
       "    .dataframe tbody tr th {\n",
       "        vertical-align: top;\n",
       "    }\n",
       "\n",
       "    .dataframe thead th {\n",
       "        text-align: right;\n",
       "    }\n",
       "</style>\n",
       "<table border=\"1\" class=\"dataframe\">\n",
       "  <thead>\n",
       "    <tr style=\"text-align: right;\">\n",
       "      <th></th>\n",
       "      <th>internet_service_type_id</th>\n",
       "      <th>payment_type_id</th>\n",
       "      <th>contract_type_id</th>\n",
       "      <th>customer_id</th>\n",
       "      <th>tenure</th>\n",
       "      <th>phone_service</th>\n",
       "      <th>multiple_lines</th>\n",
       "      <th>online_security</th>\n",
       "      <th>online_backup</th>\n",
       "      <th>device_protection</th>\n",
       "      <th>tech_support</th>\n",
       "      <th>streaming_tv</th>\n",
       "      <th>streaming_movies</th>\n",
       "      <th>paperless_billing</th>\n",
       "      <th>monthly_charges</th>\n",
       "      <th>total_charges</th>\n",
       "      <th>churn</th>\n",
       "      <th>number_services</th>\n",
       "      <th>monthly_avg</th>\n",
       "    </tr>\n",
       "  </thead>\n",
       "  <tbody>\n",
       "    <tr>\n",
       "      <th>0</th>\n",
       "      <td>1</td>\n",
       "      <td>2</td>\n",
       "      <td>2</td>\n",
       "      <td>0002-ORFBO</td>\n",
       "      <td>9</td>\n",
       "      <td>1</td>\n",
       "      <td>0</td>\n",
       "      <td>0</td>\n",
       "      <td>1</td>\n",
       "      <td>0</td>\n",
       "      <td>1</td>\n",
       "      <td>1</td>\n",
       "      <td>0</td>\n",
       "      <td>1</td>\n",
       "      <td>65.6</td>\n",
       "      <td>593.30</td>\n",
       "      <td>0</td>\n",
       "      <td>6</td>\n",
       "      <td>1</td>\n",
       "    </tr>\n",
       "    <tr>\n",
       "      <th>1</th>\n",
       "      <td>1</td>\n",
       "      <td>2</td>\n",
       "      <td>1</td>\n",
       "      <td>0003-MKNFE</td>\n",
       "      <td>9</td>\n",
       "      <td>1</td>\n",
       "      <td>1</td>\n",
       "      <td>0</td>\n",
       "      <td>0</td>\n",
       "      <td>0</td>\n",
       "      <td>0</td>\n",
       "      <td>0</td>\n",
       "      <td>1</td>\n",
       "      <td>0</td>\n",
       "      <td>59.9</td>\n",
       "      <td>542.40</td>\n",
       "      <td>0</td>\n",
       "      <td>4</td>\n",
       "      <td>0</td>\n",
       "    </tr>\n",
       "    <tr>\n",
       "      <th>2</th>\n",
       "      <td>1</td>\n",
       "      <td>1</td>\n",
       "      <td>1</td>\n",
       "      <td>0004-TLHLJ</td>\n",
       "      <td>4</td>\n",
       "      <td>1</td>\n",
       "      <td>0</td>\n",
       "      <td>0</td>\n",
       "      <td>0</td>\n",
       "      <td>1</td>\n",
       "      <td>0</td>\n",
       "      <td>0</td>\n",
       "      <td>0</td>\n",
       "      <td>1</td>\n",
       "      <td>73.9</td>\n",
       "      <td>280.85</td>\n",
       "      <td>1</td>\n",
       "      <td>4</td>\n",
       "      <td>1</td>\n",
       "    </tr>\n",
       "    <tr>\n",
       "      <th>3</th>\n",
       "      <td>1</td>\n",
       "      <td>1</td>\n",
       "      <td>1</td>\n",
       "      <td>0011-IGKFF</td>\n",
       "      <td>13</td>\n",
       "      <td>1</td>\n",
       "      <td>0</td>\n",
       "      <td>0</td>\n",
       "      <td>1</td>\n",
       "      <td>1</td>\n",
       "      <td>0</td>\n",
       "      <td>1</td>\n",
       "      <td>1</td>\n",
       "      <td>1</td>\n",
       "      <td>98.0</td>\n",
       "      <td>1237.85</td>\n",
       "      <td>1</td>\n",
       "      <td>7</td>\n",
       "      <td>1</td>\n",
       "    </tr>\n",
       "    <tr>\n",
       "      <th>4</th>\n",
       "      <td>1</td>\n",
       "      <td>2</td>\n",
       "      <td>1</td>\n",
       "      <td>0013-EXCHZ</td>\n",
       "      <td>3</td>\n",
       "      <td>1</td>\n",
       "      <td>0</td>\n",
       "      <td>0</td>\n",
       "      <td>0</td>\n",
       "      <td>0</td>\n",
       "      <td>1</td>\n",
       "      <td>1</td>\n",
       "      <td>0</td>\n",
       "      <td>1</td>\n",
       "      <td>83.9</td>\n",
       "      <td>267.40</td>\n",
       "      <td>1</td>\n",
       "      <td>5</td>\n",
       "      <td>1</td>\n",
       "    </tr>\n",
       "  </tbody>\n",
       "</table>\n",
       "</div>"
      ],
      "text/plain": [
       "   internet_service_type_id  payment_type_id  contract_type_id customer_id  \\\n",
       "0                         1                2                 2  0002-ORFBO   \n",
       "1                         1                2                 1  0003-MKNFE   \n",
       "2                         1                1                 1  0004-TLHLJ   \n",
       "3                         1                1                 1  0011-IGKFF   \n",
       "4                         1                2                 1  0013-EXCHZ   \n",
       "\n",
       "   tenure  phone_service  multiple_lines  online_security  online_backup  \\\n",
       "0       9              1               0                0              1   \n",
       "1       9              1               1                0              0   \n",
       "2       4              1               0                0              0   \n",
       "3      13              1               0                0              1   \n",
       "4       3              1               0                0              0   \n",
       "\n",
       "   device_protection  tech_support  streaming_tv  streaming_movies  \\\n",
       "0                  0             1             1                 0   \n",
       "1                  0             0             0                 1   \n",
       "2                  1             0             0                 0   \n",
       "3                  1             0             1                 1   \n",
       "4                  0             1             1                 0   \n",
       "\n",
       "   paperless_billing  monthly_charges  total_charges  churn  number_services  \\\n",
       "0                  1             65.6         593.30      0                6   \n",
       "1                  0             59.9         542.40      0                4   \n",
       "2                  1             73.9         280.85      1                4   \n",
       "3                  1             98.0        1237.85      1                7   \n",
       "4                  1             83.9         267.40      1                5   \n",
       "\n",
       "   monthly_avg  \n",
       "0            1  \n",
       "1            0  \n",
       "2            1  \n",
       "3            1  \n",
       "4            1  "
      ]
     },
     "execution_count": 3,
     "metadata": {},
     "output_type": "execute_result"
    }
   ],
   "source": [
    "test_1=prepare.prepare_that_data(test_1)\n",
    "test_1.head()"
   ]
  },
  {
   "cell_type": "code",
   "execution_count": 27,
   "metadata": {},
   "outputs": [],
   "source": [
    "train, validate, test = prepare.train_validate_test_split(test_1, 'churn', seed=123)\n",
    "#drops = ['customer_id']\n",
    "#[dataset.drop(columns=drops, inplace=True) for dataset in [train, validate, test]]\n",
    "train.columns, validate.columns\n",
    "X_train = train.drop(columns='churn')\n",
    "y_train = train.churn"
   ]
  },
  {
   "cell_type": "markdown",
   "metadata": {},
   "source": [
    "# Explore"
   ]
  },
  {
   "cell_type": "code",
   "execution_count": 28,
   "metadata": {},
   "outputs": [
    {
     "name": "stdout",
     "output_type": "stream",
     "text": [
      "Our baseline accuracy for churn in all cases on the Telco Dataset is 0.734\n"
     ]
    },
    {
     "data": {
      "image/png": "[encoded data removed]",
      "text/plain": [
       "<Figure size 432x288 with 1 Axes>"
      ]
     },
     "metadata": {
      "needs_background": "light"
     },
     "output_type": "display_data"
    },
    {
     "data": {
      "image/png": "[encoded data removed]",
      "text/plain": [
       "<Figure size 864x1440 with 7 Axes>"
      ]
     },
     "metadata": {
      "needs_background": "light"
     },
     "output_type": "display_data"
    }
   ],
   "source": [
    "\n",
    "print(f'Our baseline accuracy for churn in all cases on the Telco Dataset is {(y_train == 0).mean():.3}')\n",
    "explore.lets_make_some_graphs(train)"
   ]
  },
  {
   "cell_type": "code",
   "execution_count": 29,
   "metadata": {},
   "outputs": [
    {
     "data": {
      "text/html": [
       "<div>\n",
       "<style scoped>\n",
       "    .dataframe tbody tr th:only-of-type {\n",
       "        vertical-align: middle;\n",
       "    }\n",
       "\n",
       "    .dataframe tbody tr th {\n",
       "        vertical-align: top;\n",
       "    }\n",
       "\n",
       "    .dataframe thead th {\n",
       "        text-align: right;\n",
       "    }\n",
       "</style>\n",
       "<table border=\"1\" class=\"dataframe\">\n",
       "  <thead>\n",
       "    <tr style=\"text-align: right;\">\n",
       "      <th></th>\n",
       "      <th>internet_service_type_id</th>\n",
       "      <th>payment_type_id</th>\n",
       "      <th>contract_type_id</th>\n",
       "      <th>tenure</th>\n",
       "      <th>phone_service</th>\n",
       "      <th>multiple_lines</th>\n",
       "      <th>online_security</th>\n",
       "      <th>online_backup</th>\n",
       "      <th>device_protection</th>\n",
       "      <th>tech_support</th>\n",
       "      <th>streaming_tv</th>\n",
       "      <th>streaming_movies</th>\n",
       "      <th>paperless_billing</th>\n",
       "      <th>monthly_charges</th>\n",
       "      <th>total_charges</th>\n",
       "      <th>churn</th>\n",
       "      <th>number_services</th>\n",
       "      <th>monthly_avg</th>\n",
       "    </tr>\n",
       "  </thead>\n",
       "  <tbody>\n",
       "    <tr>\n",
       "      <th>count</th>\n",
       "      <td>3937.000000</td>\n",
       "      <td>3937.000000</td>\n",
       "      <td>3937.000000</td>\n",
       "      <td>3937.000000</td>\n",
       "      <td>3937.000000</td>\n",
       "      <td>3937.000000</td>\n",
       "      <td>3937.000000</td>\n",
       "      <td>3937.000000</td>\n",
       "      <td>3937.000000</td>\n",
       "      <td>3937.000000</td>\n",
       "      <td>3937.000000</td>\n",
       "      <td>3937.000000</td>\n",
       "      <td>3937.000000</td>\n",
       "      <td>3937.000000</td>\n",
       "      <td>3937.000000</td>\n",
       "      <td>3937.000000</td>\n",
       "      <td>3937.000000</td>\n",
       "      <td>3937.000000</td>\n",
       "    </tr>\n",
       "    <tr>\n",
       "      <th>mean</th>\n",
       "      <td>0.779782</td>\n",
       "      <td>2.346203</td>\n",
       "      <td>1.693167</td>\n",
       "      <td>32.775210</td>\n",
       "      <td>0.905258</td>\n",
       "      <td>0.423927</td>\n",
       "      <td>0.292609</td>\n",
       "      <td>0.348743</td>\n",
       "      <td>0.349759</td>\n",
       "      <td>0.289307</td>\n",
       "      <td>0.386335</td>\n",
       "      <td>0.391415</td>\n",
       "      <td>0.590297</td>\n",
       "      <td>64.805131</td>\n",
       "      <td>2316.775641</td>\n",
       "      <td>0.265685</td>\n",
       "      <td>4.757430</td>\n",
       "      <td>0.560325</td>\n",
       "    </tr>\n",
       "    <tr>\n",
       "      <th>std</th>\n",
       "      <td>0.414447</td>\n",
       "      <td>1.155924</td>\n",
       "      <td>0.836075</td>\n",
       "      <td>24.709604</td>\n",
       "      <td>0.292896</td>\n",
       "      <td>0.494242</td>\n",
       "      <td>0.455018</td>\n",
       "      <td>0.476633</td>\n",
       "      <td>0.476954</td>\n",
       "      <td>0.453498</td>\n",
       "      <td>0.486971</td>\n",
       "      <td>0.488129</td>\n",
       "      <td>0.491841</td>\n",
       "      <td>30.294804</td>\n",
       "      <td>2284.984394</td>\n",
       "      <td>0.441753</td>\n",
       "      <td>2.496102</td>\n",
       "      <td>0.496411</td>\n",
       "    </tr>\n",
       "    <tr>\n",
       "      <th>min</th>\n",
       "      <td>0.000000</td>\n",
       "      <td>1.000000</td>\n",
       "      <td>1.000000</td>\n",
       "      <td>1.000000</td>\n",
       "      <td>0.000000</td>\n",
       "      <td>0.000000</td>\n",
       "      <td>0.000000</td>\n",
       "      <td>0.000000</td>\n",
       "      <td>0.000000</td>\n",
       "      <td>0.000000</td>\n",
       "      <td>0.000000</td>\n",
       "      <td>0.000000</td>\n",
       "      <td>0.000000</td>\n",
       "      <td>18.250000</td>\n",
       "      <td>18.850000</td>\n",
       "      <td>0.000000</td>\n",
       "      <td>1.000000</td>\n",
       "      <td>0.000000</td>\n",
       "    </tr>\n",
       "    <tr>\n",
       "      <th>25%</th>\n",
       "      <td>1.000000</td>\n",
       "      <td>1.000000</td>\n",
       "      <td>1.000000</td>\n",
       "      <td>9.000000</td>\n",
       "      <td>1.000000</td>\n",
       "      <td>0.000000</td>\n",
       "      <td>0.000000</td>\n",
       "      <td>0.000000</td>\n",
       "      <td>0.000000</td>\n",
       "      <td>0.000000</td>\n",
       "      <td>0.000000</td>\n",
       "      <td>0.000000</td>\n",
       "      <td>0.000000</td>\n",
       "      <td>34.700000</td>\n",
       "      <td>396.100000</td>\n",
       "      <td>0.000000</td>\n",
       "      <td>3.000000</td>\n",
       "      <td>0.000000</td>\n",
       "    </tr>\n",
       "    <tr>\n",
       "      <th>50%</th>\n",
       "      <td>1.000000</td>\n",
       "      <td>2.000000</td>\n",
       "      <td>1.000000</td>\n",
       "      <td>30.000000</td>\n",
       "      <td>1.000000</td>\n",
       "      <td>0.000000</td>\n",
       "      <td>0.000000</td>\n",
       "      <td>0.000000</td>\n",
       "      <td>0.000000</td>\n",
       "      <td>0.000000</td>\n",
       "      <td>0.000000</td>\n",
       "      <td>0.000000</td>\n",
       "      <td>1.000000</td>\n",
       "      <td>70.250000</td>\n",
       "      <td>1414.800000</td>\n",
       "      <td>0.000000</td>\n",
       "      <td>5.000000</td>\n",
       "      <td>1.000000</td>\n",
       "    </tr>\n",
       "    <tr>\n",
       "      <th>75%</th>\n",
       "      <td>1.000000</td>\n",
       "      <td>3.000000</td>\n",
       "      <td>2.000000</td>\n",
       "      <td>56.000000</td>\n",
       "      <td>1.000000</td>\n",
       "      <td>1.000000</td>\n",
       "      <td>1.000000</td>\n",
       "      <td>1.000000</td>\n",
       "      <td>1.000000</td>\n",
       "      <td>1.000000</td>\n",
       "      <td>1.000000</td>\n",
       "      <td>1.000000</td>\n",
       "      <td>1.000000</td>\n",
       "      <td>90.300000</td>\n",
       "      <td>3893.600000</td>\n",
       "      <td>1.000000</td>\n",
       "      <td>7.000000</td>\n",
       "      <td>1.000000</td>\n",
       "    </tr>\n",
       "    <tr>\n",
       "      <th>max</th>\n",
       "      <td>1.000000</td>\n",
       "      <td>4.000000</td>\n",
       "      <td>3.000000</td>\n",
       "      <td>72.000000</td>\n",
       "      <td>1.000000</td>\n",
       "      <td>1.000000</td>\n",
       "      <td>1.000000</td>\n",
       "      <td>1.000000</td>\n",
       "      <td>1.000000</td>\n",
       "      <td>1.000000</td>\n",
       "      <td>1.000000</td>\n",
       "      <td>1.000000</td>\n",
       "      <td>1.000000</td>\n",
       "      <td>118.650000</td>\n",
       "      <td>8594.400000</td>\n",
       "      <td>1.000000</td>\n",
       "      <td>10.000000</td>\n",
       "      <td>1.000000</td>\n",
       "    </tr>\n",
       "  </tbody>\n",
       "</table>\n",
       "</div>"
      ],
      "text/plain": [
       "       internet_service_type_id  payment_type_id  contract_type_id  \\\n",
       "count               3937.000000      3937.000000       3937.000000   \n",
       "mean                   0.779782         2.346203          1.693167   \n",
       "std                    0.414447         1.155924          0.836075   \n",
       "min                    0.000000         1.000000          1.000000   \n",
       "25%                    1.000000         1.000000          1.000000   \n",
       "50%                    1.000000         2.000000          1.000000   \n",
       "75%                    1.000000         3.000000          2.000000   \n",
       "max                    1.000000         4.000000          3.000000   \n",
       "\n",
       "            tenure  phone_service  multiple_lines  online_security  \\\n",
       "count  3937.000000    3937.000000     3937.000000      3937.000000   \n",
       "mean     32.775210       0.905258        0.423927         0.292609   \n",
       "std      24.709604       0.292896        0.494242         0.455018   \n",
       "min       1.000000       0.000000        0.000000         0.000000   \n",
       "25%       9.000000       1.000000        0.000000         0.000000   \n",
       "50%      30.000000       1.000000        0.000000         0.000000   \n",
       "75%      56.000000       1.000000        1.000000         1.000000   \n",
       "max      72.000000       1.000000        1.000000         1.000000   \n",
       "\n",
       "       online_backup  device_protection  tech_support  streaming_tv  \\\n",
       "count    3937.000000        3937.000000   3937.000000   3937.000000   \n",
       "mean        0.348743           0.349759      0.289307      0.386335   \n",
       "std         0.476633           0.476954      0.453498      0.486971   \n",
       "min         0.000000           0.000000      0.000000      0.000000   \n",
       "25%         0.000000           0.000000      0.000000      0.000000   \n",
       "50%         0.000000           0.000000      0.000000      0.000000   \n",
       "75%         1.000000           1.000000      1.000000      1.000000   \n",
       "max         1.000000           1.000000      1.000000      1.000000   \n",
       "\n",
       "       streaming_movies  paperless_billing  monthly_charges  total_charges  \\\n",
       "count       3937.000000        3937.000000      3937.000000    3937.000000   \n",
       "mean           0.391415           0.590297        64.805131    2316.775641   \n",
       "std            0.488129           0.491841        30.294804    2284.984394   \n",
       "min            0.000000           0.000000        18.250000      18.850000   \n",
       "25%            0.000000           0.000000        34.700000     396.100000   \n",
       "50%            0.000000           1.000000        70.250000    1414.800000   \n",
       "75%            1.000000           1.000000        90.300000    3893.600000   \n",
       "max            1.000000           1.000000       118.650000    8594.400000   \n",
       "\n",
       "             churn  number_services  monthly_avg  \n",
       "count  3937.000000      3937.000000  3937.000000  \n",
       "mean      0.265685         4.757430     0.560325  \n",
       "std       0.441753         2.496102     0.496411  \n",
       "min       0.000000         1.000000     0.000000  \n",
       "25%       0.000000         3.000000     0.000000  \n",
       "50%       0.000000         5.000000     1.000000  \n",
       "75%       1.000000         7.000000     1.000000  \n",
       "max       1.000000        10.000000     1.000000  "
      ]
     },
     "execution_count": 29,
     "metadata": {},
     "output_type": "execute_result"
    }
   ],
   "source": [
    "train.describe()\n"
   ]
  },
  {
   "cell_type": "code",
   "execution_count": 30,
   "metadata": {},
   "outputs": [
    {
     "data": {
      "text/plain": [
       "((2206, 19), (1731, 19))"
      ]
     },
     "execution_count": 30,
     "metadata": {},
     "output_type": "execute_result"
    }
   ],
   "source": [
    "bill_above = train[train.monthly_avg ==1 ]\n",
    "bill_bellow = train[train.monthly_avg == 0]\n",
    "bill_above.shape, bill_bellow.shape"
   ]
  },
  {
   "cell_type": "code",
   "execution_count": 31,
   "metadata": {},
   "outputs": [
    {
     "data": {
      "image/png": "[encoded data removed]",
      "text/plain": [
       "<Figure size 1008x504 with 1 Axes>"
      ]
     },
     "metadata": {
      "needs_background": "light"
     },
     "output_type": "display_data"
    },
    {
     "name": "stdout",
     "output_type": "stream",
     "text": [
      "Churn rate of those whose montly bill is above montly avg 0.3481\n",
      "Churn rate of those whose montly bill is below montly avg 0.1606\n"
     ]
    }
   ],
   "source": [
    "explore.average_plot(train)"
   ]
  },
  {
   "cell_type": "markdown",
   "metadata": {},
   "source": [
    "# Hypothesis\n",
    "\n",
    "## alpha = .05\n",
    "\n",
    "## $H_0$: There is no difference in churn between those whose monthly bill is above or below Average monthly bill\n",
    "\n",
    "## $H_a$ : There is a significant difference in churn between those wwhose monthly bill is above or below Average monthly bill"
   ]
  },
  {
   "cell_type": "code",
   "execution_count": 32,
   "metadata": {},
   "outputs": [
    {
     "name": "stdout",
     "output_type": "stream",
     "text": [
      "We reject the null hypothesis.\n"
     ]
    }
   ],
   "source": [
    "bill_above = train[train.monthly_avg ==1 ]\n",
    "bill_bellow = train[train.monthly_avg == 0]\n",
    "bill_above.shape, bill_bellow.shape\n",
    "# T-Test\n",
    "variance = bill_above.churn.var() == bill_bellow.churn.var()\n",
    "α = .05\n",
    "t, p = stats.ttest_ind(bill_above.churn, bill_bellow.churn, equal_var=variance)\n",
    "if p < α:\n",
    "    print('We reject the null hypothesis.')\n",
    "else:\n",
    "    print('The null hypothesis is confirmed')"
   ]
  },
  {
   "cell_type": "markdown",
   "metadata": {},
   "source": [
    "# Lets look at Number of Services Provided. "
   ]
  },
  {
   "cell_type": "code",
   "execution_count": 33,
   "metadata": {},
   "outputs": [
    {
     "data": {
      "text/plain": [
       "((3426, 19), (511, 19))"
      ]
     },
     "execution_count": 33,
     "metadata": {},
     "output_type": "execute_result"
    }
   ],
   "source": [
    "high_service = train[train.number_services > 1]\n",
    "low_service = train[train.number_services == 1]\n",
    "high_service.shape, low_service.shape"
   ]
  },
  {
   "cell_type": "code",
   "execution_count": 34,
   "metadata": {},
   "outputs": [
    {
     "data": {
      "image/png": "[encoded data removed]",
      "text/plain": [
       "<Figure size 864x432 with 1 Axes>"
      ]
     },
     "metadata": {
      "needs_background": "light"
     },
     "output_type": "display_data"
    }
   ],
   "source": [
    "p = sns.factorplot( x=\"churn\", y=\"number_services\",  data=train, size=6, \n",
    "                   aspect=2, orient=\"h\", kind=\"bar\", palette=\"tab10\", ci=None, \n",
    "                   edgecolor=\".2\")\n",
    "baseline = round(train.churn.mean() ,4)\n",
    "plt.axvline(baseline, label = 'overall churn rate')\n",
    "\n",
    "p.set_ylabels(\"Number of Services\")\n",
    "p.set_xlabels(\"Churn Rate\")\n",
    "plt.title('Does number of Number of Service impact customer Churn?')\n",
    "plt.show()"
   ]
  },
  {
   "cell_type": "markdown",
   "metadata": {},
   "source": [
    "# Hypothesis\n",
    "\n",
    "## alpha = .05\n",
    "\n",
    "## $H_0$: Churn is independent of the number services a customer has\n",
    "\n",
    "## $H_a$ : Churn is dependent of the number services a customer has"
   ]
  },
  {
   "cell_type": "code",
   "execution_count": 35,
   "metadata": {},
   "outputs": [
    {
     "name": "stdout",
     "output_type": "stream",
     "text": [
      "Observed\n",
      "\n",
      "     0    1    2    3    4    5    6    7    8   9\n",
      "0  468  360  234  282  312  377  345  268  179  66\n",
      "1   43   85  154  192  188  156  117   79   30   2\n",
      "---\n",
      "Expected\n",
      "\n",
      "     0    1    2    3    4    5    6    7    8   9\n",
      "0  375  326  284  348  367  391  339  254  153  49\n",
      "1  135  118  103  125  132  141  122   92   55  18\n",
      "---\n",
      "\n",
      "chi^2 = 252.0358\n",
      "p     = 0.0000\n",
      "\n",
      "We reject the null hypothesis.\n"
     ]
    }
   ],
   "source": [
    "\n",
    "\n",
    "observed = pd.crosstab(train.churn, train.number_services)\n",
    "\n",
    "chi2, p, degf, expected = stats.chi2_contingency(observed)\n",
    "\n",
    "expected = pd.DataFrame(expected).astype(int)\n",
    "\n",
    "print('Observed\\n')\n",
    "print(pd.DataFrame(observed.values))\n",
    "print('---\\nExpected\\n')\n",
    "print(expected)\n",
    "print('---\\n')\n",
    "print(f'chi^2 = {chi2:.4f}')\n",
    "print(f'p     = {p:.4f}')\n",
    "print('')\n",
    "\n",
    "if p < α:\n",
    "    print('We reject the null hypothesis.')\n",
    "else:\n",
    "    print('The null hypothesis is confirmed')"
   ]
  },
  {
   "cell_type": "markdown",
   "metadata": {},
   "source": [
    "# Lets look at some models now"
   ]
  },
  {
   "cell_type": "code",
   "execution_count": 36,
   "metadata": {},
   "outputs": [
    {
     "data": {
      "text/plain": [
       "['internet_service_type_id',\n",
       " 'payment_type_id',\n",
       " 'contract_type_id',\n",
       " 'customer_id',\n",
       " 'tenure',\n",
       " 'phone_service',\n",
       " 'multiple_lines',\n",
       " 'online_security',\n",
       " 'online_backup',\n",
       " 'device_protection',\n",
       " 'tech_support',\n",
       " 'streaming_tv',\n",
       " 'streaming_movies',\n",
       " 'paperless_billing',\n",
       " 'monthly_charges',\n",
       " 'total_charges',\n",
       " 'churn',\n",
       " 'number_services',\n",
       " 'monthly_avg']"
      ]
     },
     "execution_count": 36,
     "metadata": {},
     "output_type": "execute_result"
    }
   ],
   "source": [
    "train.columns.values.tolist()"
   ]
  },
  {
   "cell_type": "code",
   "execution_count": 37,
   "metadata": {},
   "outputs": [
    {
     "data": {
      "text/plain": [
       "((3937, 17), (1688, 17), (1407, 17))"
      ]
     },
     "execution_count": 37,
     "metadata": {},
     "output_type": "execute_result"
    }
   ],
   "source": [
    "features= ['internet_service_type_id',\n",
    " 'payment_type_id',\n",
    " 'contract_type_id',\n",
    " 'tenure',\n",
    " 'phone_service',\n",
    " 'multiple_lines',\n",
    " 'online_security',\n",
    " 'online_backup',\n",
    " 'device_protection',\n",
    " 'tech_support',\n",
    " 'streaming_tv',\n",
    " 'streaming_movies',\n",
    " 'paperless_billing',\n",
    " 'monthly_charges',\n",
    " 'total_charges',\n",
    " 'number_services',\n",
    " 'monthly_avg']\n",
    "X_train = train[features]\n",
    "X_validate = validate[features]\n",
    "X_test = test[features]\n",
    "X_train.shape, X_validate.shape, X_test.shape\n"
   ]
  },
  {
   "cell_type": "code",
   "execution_count": 38,
   "metadata": {},
   "outputs": [
    {
     "data": {
      "text/plain": [
       "((3937,), (1688,), (1407,))"
      ]
     },
     "execution_count": 38,
     "metadata": {},
     "output_type": "execute_result"
    }
   ],
   "source": [
    "y_train = train.churn\n",
    "y_validate = validate.churn\n",
    "y_test = test.churn\n",
    "y_train.shape, y_validate.shape, y_test.shape"
   ]
  },
  {
   "cell_type": "code",
   "execution_count": 39,
   "metadata": {},
   "outputs": [
    {
     "name": "stdout",
     "output_type": "stream",
     "text": [
      "Tree with max depth of 2\n",
      "                     0            1  accuracy    macro avg  weighted avg\n",
      "precision     0.770947     0.781609  0.771654     0.776278      0.773780\n",
      "recall        0.980284     0.195029  0.771654     0.587656      0.771654\n",
      "f1-score      0.863103     0.312165  0.771654     0.587634      0.716728\n",
      "support    2891.000000  1046.000000  0.771654  3937.000000   3937.000000\n",
      "\n",
      "Tree with max depth of 3\n",
      "                     0            1  accuracy    macro avg  weighted avg\n",
      "precision     0.799133     0.735849  0.791466     0.767491      0.782319\n",
      "recall        0.956416     0.335564  0.791466     0.645990      0.791466\n",
      "f1-score      0.870729     0.460932  0.791466     0.665831      0.761852\n",
      "support    2891.000000  1046.000000  0.791466  3937.000000   3937.000000\n",
      "\n",
      "Tree with max depth of 4\n",
      "                     0            1  accuracy    macro avg  weighted avg\n",
      "precision     0.815758     0.719533  0.801118     0.767645      0.790192\n",
      "recall        0.941889     0.412046  0.801118     0.676967      0.801118\n",
      "f1-score      0.874298     0.524012  0.801118     0.699155      0.781232\n",
      "support    2891.000000  1046.000000  0.801118  3937.000000   3937.000000\n",
      "\n",
      "Tree with max depth of 5\n",
      "                     0            1  accuracy    macro avg  weighted avg\n",
      "precision     0.834894     0.705321   0.81077     0.770107      0.800468\n",
      "recall        0.925285     0.494264   0.81077     0.709775      0.810770\n",
      "f1-score      0.877769     0.581225   0.81077     0.729497      0.798982\n",
      "support    2891.000000  1046.000000   0.81077  3937.000000   3937.000000\n",
      "\n",
      "Tree with max depth of 6\n",
      "                     0            1  accuracy    macro avg  weighted avg\n",
      "precision     0.842781     0.731183  0.821692     0.786982      0.813131\n",
      "recall        0.930820     0.520076  0.821692     0.725448      0.821692\n",
      "f1-score      0.884615     0.607821  0.821692     0.746218      0.811075\n",
      "support    2891.000000  1046.000000  0.821692  3937.000000   3937.000000\n",
      "\n",
      "Tree with max depth of 7\n",
      "                     0            1  accuracy    macro avg  weighted avg\n",
      "precision     0.850205     0.745431   0.82982     0.797818      0.822368\n",
      "recall        0.932549     0.545889   0.82982     0.739219      0.829820\n",
      "f1-score      0.889475     0.630243   0.82982     0.759859      0.820601\n",
      "support    2891.000000  1046.000000   0.82982  3937.000000   3937.000000\n",
      "\n",
      "Tree with max depth of 8\n",
      "                     0            1  accuracy    macro avg  weighted avg\n",
      "precision     0.868379     0.773723  0.848616     0.821051      0.843230\n",
      "recall        0.935662     0.608031  0.848616     0.771846      0.848616\n",
      "f1-score      0.900766     0.680942  0.848616     0.790854      0.842362\n",
      "support    2891.000000  1046.000000  0.848616  3937.000000   3937.000000\n",
      "\n",
      "Tree with max depth of 9\n",
      "                     0            1  accuracy    macro avg  weighted avg\n",
      "precision     0.887044     0.808092  0.869698     0.847568      0.866068\n",
      "recall        0.942580     0.668260  0.869698     0.805420      0.869698\n",
      "f1-score      0.913969     0.731554  0.869698     0.822762      0.865505\n",
      "support    2891.000000  1046.000000  0.869698  3937.000000   3937.000000\n",
      "\n",
      "Tree with max depth of 10\n",
      "                     0            1  accuracy    macro avg  weighted avg\n",
      "precision     0.917028     0.851496  0.901448     0.884262      0.899617\n",
      "recall        0.951920     0.761950  0.901448     0.856935      0.901448\n",
      "f1-score      0.934148     0.804238  0.901448     0.869193      0.899633\n",
      "support    2891.000000  1046.000000  0.901448  3937.000000   3937.000000\n",
      "\n",
      "Tree with max depth of 11\n",
      "                     0            1  accuracy    macro avg  weighted avg\n",
      "precision     0.943954     0.887210  0.929642     0.915582      0.928878\n",
      "recall        0.961259     0.842256  0.929642     0.901758      0.929642\n",
      "f1-score      0.952528     0.864149  0.929642     0.908338      0.929047\n",
      "support    2891.000000  1046.000000  0.929642  3937.000000   3937.000000\n",
      "\n",
      "Tree with max depth of 12\n",
      "                     0            1  accuracy    macro avg  weighted avg\n",
      "precision     0.970314     0.923077  0.957836     0.946696      0.957764\n",
      "recall        0.972328     0.917782  0.957836     0.945055      0.957836\n",
      "f1-score      0.971320     0.920422  0.957836     0.945871      0.957797\n",
      "support    2891.000000  1046.000000  0.957836  3937.000000   3937.000000\n",
      "\n",
      "Tree with max depth of 13\n",
      "                     0            1  accuracy    macro avg  weighted avg\n",
      "precision     0.988839     0.947664  0.977648     0.968251      0.977899\n",
      "recall        0.980630     0.969407  0.977648     0.975018      0.977648\n",
      "f1-score      0.984717     0.958412  0.977648     0.971565      0.977728\n",
      "support    2891.000000  1046.000000  0.977648  3937.000000   3937.000000\n",
      "\n",
      "Tree with max depth of 14\n",
      "                     0            1  accuracy    macro avg  weighted avg\n",
      "precision     0.994410     0.958140  0.984506     0.976275      0.984773\n",
      "recall        0.984434     0.984704  0.984506     0.984569      0.984506\n",
      "f1-score      0.989397     0.971240  0.984506     0.980318      0.984573\n",
      "support    2891.000000  1046.000000  0.984506  3937.000000   3937.000000\n",
      "\n",
      "Tree with max depth of 15\n",
      "                     0            1  accuracy    macro avg  weighted avg\n",
      "precision     0.997565     0.978343   0.99238     0.987954      0.992458\n",
      "recall        0.992044     0.993308   0.99238     0.992676      0.992380\n",
      "f1-score      0.994797     0.985769   0.99238     0.990283      0.992398\n",
      "support    2891.000000  1046.000000   0.99238  3937.000000   3937.000000\n",
      "\n",
      "Tree with max depth of 16\n",
      "                     0            1  accuracy    macro avg  weighted avg\n",
      "precision     0.997922     0.990476  0.995936     0.994199      0.995944\n",
      "recall        0.996541     0.994264  0.995936     0.995402      0.995936\n",
      "f1-score      0.997231     0.992366  0.995936     0.994799      0.995938\n",
      "support    2891.000000  1046.000000  0.995936  3937.000000   3937.000000\n",
      "\n",
      "Tree with max depth of 17\n",
      "                     0            1  accuracy    macro avg  weighted avg\n",
      "precision     0.998268     0.991429  0.996444     0.994848      0.996451\n",
      "recall        0.996887     0.995220  0.996444     0.996053      0.996444\n",
      "f1-score      0.997577     0.993321  0.996444     0.995449      0.996446\n",
      "support    2891.000000  1046.000000  0.996444  3937.000000   3937.000000\n",
      "\n",
      "Tree with max depth of 18\n",
      "                     0            1  accuracy    macro avg  weighted avg\n",
      "precision     0.998268     0.991429  0.996444     0.994848      0.996451\n",
      "recall        0.996887     0.995220  0.996444     0.996053      0.996444\n",
      "f1-score      0.997577     0.993321  0.996444     0.995449      0.996446\n",
      "support    2891.000000  1046.000000  0.996444  3937.000000   3937.000000\n",
      "\n",
      "Tree with max depth of 19\n",
      "                     0            1  accuracy    macro avg  weighted avg\n",
      "precision     0.998268     0.991429  0.996444     0.994848      0.996451\n",
      "recall        0.996887     0.995220  0.996444     0.996053      0.996444\n",
      "f1-score      0.997577     0.993321  0.996444     0.995449      0.996446\n",
      "support    2891.000000  1046.000000  0.996444  3937.000000   3937.000000\n",
      "\n",
      "Tree with max depth of 20\n",
      "                     0            1  accuracy    macro avg  weighted avg\n",
      "precision     0.998268     0.991429  0.996444     0.994848      0.996451\n",
      "recall        0.996887     0.995220  0.996444     0.996053      0.996444\n",
      "f1-score      0.997577     0.993321  0.996444     0.995449      0.996446\n",
      "support    2891.000000  1046.000000  0.996444  3937.000000   3937.000000\n",
      "\n"
     ]
    }
   ],
   "source": [
    "for i in range(2, 21):\n",
    "    # Make the model\n",
    "    forest = RandomForestClassifier(max_depth=i, random_state=123)\n",
    "\n",
    "    # Fit the model (on train and only train)\n",
    "    forest = forest.fit(X_train, y_train)\n",
    "\n",
    "    # Use the model\n",
    "    # We'll evaluate the model's performance on train, first\n",
    "    y_predictions = forest.predict(X_train)\n",
    "\n",
    "    # Produce the classification report on the actual y values and this model's predicted y values\n",
    "    report = classification_report(y_train, y_predictions, output_dict=True)\n",
    "    print(f\"Tree with max depth of {i}\")\n",
    "    print(pd.DataFrame(report))\n",
    "    print()"
   ]
  },
  {
   "cell_type": "code",
   "execution_count": null,
   "metadata": {},
   "outputs": [],
   "source": []
  },
  {
   "cell_type": "code",
   "execution_count": 40,
   "metadata": {},
   "outputs": [
    {
     "name": "stdout",
     "output_type": "stream",
     "text": [
      "    max_depth  train_accuracy  validate_accuracy  difference\n",
      "0           2        0.771654           0.755924    0.015729\n",
      "1           3        0.791466           0.775474    0.015992\n",
      "2           4        0.801118           0.787322    0.013795\n",
      "3           5        0.810770           0.795024    0.015746\n",
      "4           6        0.821692           0.788507    0.033185\n",
      "5           7        0.829820           0.783768    0.046052\n",
      "6           8        0.848616           0.794431    0.054184\n",
      "7           9        0.869698           0.792654    0.077044\n",
      "8          10        0.901448           0.791469    0.109979\n",
      "9          11        0.929642           0.787322    0.142320\n",
      "10         12        0.957836           0.783175    0.174661\n",
      "11         13        0.977648           0.774882    0.202766\n",
      "12         14        0.984506           0.780213    0.204293\n",
      "13         15        0.992380           0.778436    0.213944\n",
      "14         16        0.995936           0.779028    0.216908\n",
      "15         17        0.996444           0.775474    0.220970\n",
      "16         18        0.996444           0.778436    0.218008\n",
      "17         19        0.996444           0.773104    0.223340\n",
      "18         20        0.996444           0.774289    0.222155\n",
      "19         21        0.996444           0.782583    0.213861\n",
      "20         22        0.996444           0.780213    0.216231\n",
      "21         23        0.996444           0.778436    0.218008\n",
      "22         24        0.996444           0.777844    0.218600\n"
     ]
    },
    {
     "data": {
      "image/png": "[encoded data removed]",
      "text/plain": [
       "<Figure size 1152x648 with 1 Axes>"
      ]
     },
     "metadata": {
      "needs_background": "light"
     },
     "output_type": "display_data"
    }
   ],
   "source": [
    "metrics = []\n",
    "\n",
    "for i in range(2, 25):\n",
    "    # Make the model\n",
    "    forest = RandomForestClassifier(max_depth=i, random_state=123)\n",
    "\n",
    "    # Fit the model (on train and only train)\n",
    "    forest = forest.fit(X_train, y_train)\n",
    "\n",
    "    # Use the model\n",
    "    # We'll evaluate the model's performance on train, first\n",
    "    in_sample_accuracy = forest.score(X_train, y_train)\n",
    "    \n",
    "    out_of_sample_accuracy = forest.score(X_validate, y_validate)\n",
    "\n",
    "    output = {\n",
    "        \"max_depth\": i,\n",
    "        \"train_accuracy\": in_sample_accuracy,\n",
    "        \"validate_accuracy\": out_of_sample_accuracy\n",
    "    }\n",
    "    \n",
    "    metrics.append(output)\n",
    "    \n",
    "df = pd.DataFrame(metrics)\n",
    "df[\"difference\"] = df.train_accuracy - df.validate_accuracy\n",
    "print(df)\n",
    "df[['train_accuracy', 'validate_accuracy','difference']].plot(figsize = (16,9))\n",
    "plt.grid()"
   ]
  },
  {
   "cell_type": "code",
   "execution_count": null,
   "metadata": {},
   "outputs": [],
   "source": []
  },
  {
   "cell_type": "code",
   "execution_count": 41,
   "metadata": {},
   "outputs": [
    {
     "name": "stdout",
     "output_type": "stream",
     "text": [
      " Training set\n",
      "              precision    recall  f1-score   support\n",
      "\n",
      "           0       0.84      0.90      0.87      2891\n",
      "           1       0.65      0.54      0.59      1046\n",
      "\n",
      "    accuracy                           0.80      3937\n",
      "   macro avg       0.75      0.72      0.73      3937\n",
      "weighted avg       0.79      0.80      0.79      3937\n",
      "\n",
      " Validation set\n",
      "              precision    recall  f1-score   support\n",
      "\n",
      "           0       0.84      0.88      0.86      1239\n",
      "           1       0.62      0.54      0.58       449\n",
      "\n",
      "    accuracy                           0.79      1688\n",
      "   macro avg       0.73      0.71      0.72      1688\n",
      "weighted avg       0.78      0.79      0.79      1688\n",
      "\n"
     ]
    }
   ],
   "source": [
    " # create model\n",
    "logit = LogisticRegression()\n",
    "\n",
    "# fit model\n",
    "logit.fit(X_train, y_train)\n",
    "\n",
    "# make predictions\n",
    "logit.predict_proba(X_train)[:10][:,1] > 0.5\n",
    "y_pre= logit.predict(X_train)\n",
    "y_pre_v=logit.predict(X_validate)\n",
    "\n",
    "#output classification reports\n",
    "print(' Training set')\n",
    "print(classification_report(y_train, y_pre))\n",
    "print(' Validation set')\n",
    "print(classification_report(y_validate, y_pre_v))\n",
    "\n"
   ]
  },
  {
   "cell_type": "code",
   "execution_count": 42,
   "metadata": {},
   "outputs": [
    {
     "name": "stdout",
     "output_type": "stream",
     "text": [
      "Tree of depth 5\n"
     ]
    },
    {
     "data": {
      "text/html": [
       "<div>\n",
       "<style scoped>\n",
       "    .dataframe tbody tr th:only-of-type {\n",
       "        vertical-align: middle;\n",
       "    }\n",
       "\n",
       "    .dataframe tbody tr th {\n",
       "        vertical-align: top;\n",
       "    }\n",
       "\n",
       "    .dataframe thead th {\n",
       "        text-align: right;\n",
       "    }\n",
       "</style>\n",
       "<table border=\"1\" class=\"dataframe\">\n",
       "  <thead>\n",
       "    <tr style=\"text-align: right;\">\n",
       "      <th></th>\n",
       "      <th>0</th>\n",
       "      <th>1</th>\n",
       "      <th>accuracy</th>\n",
       "      <th>macro avg</th>\n",
       "      <th>weighted avg</th>\n",
       "    </tr>\n",
       "  </thead>\n",
       "  <tbody>\n",
       "    <tr>\n",
       "      <th>precision</th>\n",
       "      <td>0.834894</td>\n",
       "      <td>0.705321</td>\n",
       "      <td>0.81077</td>\n",
       "      <td>0.770107</td>\n",
       "      <td>0.800468</td>\n",
       "    </tr>\n",
       "    <tr>\n",
       "      <th>recall</th>\n",
       "      <td>0.925285</td>\n",
       "      <td>0.494264</td>\n",
       "      <td>0.81077</td>\n",
       "      <td>0.709775</td>\n",
       "      <td>0.810770</td>\n",
       "    </tr>\n",
       "    <tr>\n",
       "      <th>f1-score</th>\n",
       "      <td>0.877769</td>\n",
       "      <td>0.581225</td>\n",
       "      <td>0.81077</td>\n",
       "      <td>0.729497</td>\n",
       "      <td>0.798982</td>\n",
       "    </tr>\n",
       "    <tr>\n",
       "      <th>support</th>\n",
       "      <td>2891.000000</td>\n",
       "      <td>1046.000000</td>\n",
       "      <td>0.81077</td>\n",
       "      <td>3937.000000</td>\n",
       "      <td>3937.000000</td>\n",
       "    </tr>\n",
       "  </tbody>\n",
       "</table>\n",
       "</div>"
      ],
      "text/plain": [
       "                     0            1  accuracy    macro avg  weighted avg\n",
       "precision     0.834894     0.705321   0.81077     0.770107      0.800468\n",
       "recall        0.925285     0.494264   0.81077     0.709775      0.810770\n",
       "f1-score      0.877769     0.581225   0.81077     0.729497      0.798982\n",
       "support    2891.000000  1046.000000   0.81077  3937.000000   3937.000000"
      ]
     },
     "execution_count": 42,
     "metadata": {},
     "output_type": "execute_result"
    }
   ],
   "source": [
    "\n",
    "forest1 = RandomForestClassifier(max_depth=5, random_state=123)\n",
    "\n",
    "forest1.fit(X_train, y_train)\n",
    "\n",
    "\n",
    "y_predictions = forest1.predict(X_train)\n",
    "\n",
    "\n",
    "report = classification_report(y_train, y_predictions, output_dict=True)\n",
    "print(\"Tree of depth 5\")\n",
    "pd.DataFrame(report)"
   ]
  },
  {
   "cell_type": "markdown",
   "metadata": {},
   "source": [
    "# Run the test data Finally! "
   ]
  },
  {
   "cell_type": "code",
   "execution_count": 43,
   "metadata": {},
   "outputs": [
    {
     "name": "stdout",
     "output_type": "stream",
     "text": [
      "              precision    recall  f1-score   support\n",
      "\n",
      "           0       0.85      0.90      0.87      1033\n",
      "           1       0.66      0.55      0.60       374\n",
      "\n",
      "    accuracy                           0.81      1407\n",
      "   macro avg       0.76      0.73      0.74      1407\n",
      "weighted avg       0.80      0.81      0.80      1407\n",
      "\n"
     ]
    }
   ],
   "source": [
    "y_pre_t= logit.predict(X_test)\n",
    "print(classification_report(y_test, y_pre_t))"
   ]
  },
  {
   "cell_type": "code",
   "execution_count": 44,
   "metadata": {},
   "outputs": [],
   "source": [
    "# create the probabilities column based on our previously trained model\n",
    "proba_test = pd.DataFrame(logit.predict_proba(X_test))\n",
    "prob_col = (proba_test[1])\n",
    "\n",
    "# create the predictions column based upon our previously trained model\n",
    "pred_col = pd.Series(y_pre_t)\n",
    "\n",
    "# create the customer id column\n",
    "id_col = pd.Series(test.customer_id.to_list())"
   ]
  },
  {
   "cell_type": "code",
   "execution_count": 45,
   "metadata": {},
   "outputs": [
    {
     "data": {
      "text/html": [
       "<div>\n",
       "<style scoped>\n",
       "    .dataframe tbody tr th:only-of-type {\n",
       "        vertical-align: middle;\n",
       "    }\n",
       "\n",
       "    .dataframe tbody tr th {\n",
       "        vertical-align: top;\n",
       "    }\n",
       "\n",
       "    .dataframe thead th {\n",
       "        text-align: right;\n",
       "    }\n",
       "</style>\n",
       "<table border=\"1\" class=\"dataframe\">\n",
       "  <thead>\n",
       "    <tr style=\"text-align: right;\">\n",
       "      <th></th>\n",
       "      <th>0</th>\n",
       "      <th>1</th>\n",
       "      <th>1</th>\n",
       "    </tr>\n",
       "  </thead>\n",
       "  <tbody>\n",
       "    <tr>\n",
       "      <th>0</th>\n",
       "      <td>4716-MRVEN</td>\n",
       "      <td>0.028990</td>\n",
       "      <td>0</td>\n",
       "    </tr>\n",
       "    <tr>\n",
       "      <th>1</th>\n",
       "      <td>8966-KZXXA</td>\n",
       "      <td>0.010068</td>\n",
       "      <td>0</td>\n",
       "    </tr>\n",
       "    <tr>\n",
       "      <th>2</th>\n",
       "      <td>8720-RQSBJ</td>\n",
       "      <td>0.394305</td>\n",
       "      <td>0</td>\n",
       "    </tr>\n",
       "    <tr>\n",
       "      <th>3</th>\n",
       "      <td>7504-UWHNB</td>\n",
       "      <td>0.410444</td>\n",
       "      <td>0</td>\n",
       "    </tr>\n",
       "    <tr>\n",
       "      <th>4</th>\n",
       "      <td>1730-VFMWO</td>\n",
       "      <td>0.107554</td>\n",
       "      <td>0</td>\n",
       "    </tr>\n",
       "  </tbody>\n",
       "</table>\n",
       "</div>"
      ],
      "text/plain": [
       "            0         1  1\n",
       "0  4716-MRVEN  0.028990  0\n",
       "1  8966-KZXXA  0.010068  0\n",
       "2  8720-RQSBJ  0.394305  0\n",
       "3  7504-UWHNB  0.410444  0\n",
       "4  1730-VFMWO  0.107554  0"
      ]
     },
     "execution_count": 45,
     "metadata": {},
     "output_type": "execute_result"
    }
   ],
   "source": [
    "# create dataframe of our columns\n",
    "output = pd.concat([id_col, prob_col, pred_col],axis=1)\n",
    "output.head()"
   ]
  },
  {
   "cell_type": "code",
   "execution_count": 46,
   "metadata": {},
   "outputs": [],
   "source": [
    "# export output to csv file\n",
    "output.to_csv('Predictions.csv', index=False, header=False)"
   ]
  },
  {
   "cell_type": "code",
   "execution_count": null,
   "metadata": {},
   "outputs": [],
   "source": []
  },
  {
   "cell_type": "code",
   "execution_count": null,
   "metadata": {},
   "outputs": [],
   "source": []
  },
  {
   "cell_type": "code",
   "execution_count": null,
   "metadata": {},
   "outputs": [],
   "source": []
  }
 ],
 "metadata": {
  "kernelspec": {
   "display_name": "Python 3 (ipykernel)",
   "language": "python",
   "name": "python3"
  },
  "language_info": {
   "codemirror_mode": {
    "name": "ipython",
    "version": 3
   },
   "file_extension": ".py",
   "mimetype": "text/x-python",
   "name": "python",
   "nbconvert_exporter": "python",
   "pygments_lexer": "ipython3",
   "version": "3.9.12"
  },
  "vscode": {
   "interpreter": {
    "hash": "e9896e9c1796b18b0def548b6a57155437b4526ebd5724ca486569413048d853"
   }
  }
 },
 "nbformat": 4,
 "nbformat_minor": 2
}
